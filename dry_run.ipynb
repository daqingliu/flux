{
 "cells": [
  {
   "cell_type": "markdown",
   "metadata": {},
   "source": [
    "# Flux.1-dev 网络结构详解"
   ]
  },
  {
   "cell_type": "markdown",
   "metadata": {},
   "source": [
    "![](https://image-1304830922.cos.ap-shanghai.myqcloud.com/20250302232842466.jpeg)"
   ]
  },
  {
   "cell_type": "markdown",
   "metadata": {},
   "source": [
    "## 输入准备"
   ]
  },
  {
   "cell_type": "markdown",
   "metadata": {},
   "source": [
    "根据我们的 Diffusion 三要素理论，在 Sampling 的时候其实只需要确定反向更新公式即可，而 RF 的公式极为简单，Flux.1 也完全是符合我们上一节的内容。\n",
    "\n",
    "```python\n",
    "for t_curr, t_prev in zip(timesteps[:-1], timesteps[1:]):\n",
    "    t_vec = torch.full((img.shape[0],), t_curr, dtype=img.dtype, device=img.device)\n",
    "    pred = model(\n",
    "        img=img,\n",
    "        img_ids=img_ids,\n",
    "        txt=txt,\n",
    "        txt_ids=txt_ids,\n",
    "        y=vec,\n",
    "        timesteps=t_vec,\n",
    "        guidance=guidance_vec,\n",
    "    )\n",
    "\n",
    "    img = img + (t_prev - t_curr) * pred\n",
    "```"
   ]
  },
  {
   "cell_type": "markdown",
   "metadata": {},
   "source": [
    "在模型的输入部分，我们需要确定：\n",
    "\n",
    "- `img`: latent中的image，`size=[bs, (h*w/16/16), 16*2*2]`\n",
    "  - 在 VAE 中，压缩比为 16，通道数也为 16\n",
    "  - 在 VAE 之前做了 patch 化，比例是 2\n",
    "- `img_ids`: 图像位置编码，`size=[bs, (h*w/16/16), 3]`\n",
    "  - 位置编码是 3 维的，从 (0,0,0) 到 (0, h/16, w/16)\n",
    "  - 第 1 维始终是空置的\n",
    "- `txt`: prompt 的 T5 的 last_hidden_state，`size=[bs, max_length, 4096]`\n",
    "  - max_length 默认是 512，也可以截断到更小值\n",
    "- `txt_ids`: 文本位置编码，`size=[bs, max_length, 3]`\n",
    "  - 全部设置为 (0,0,0)\n",
    "- `vec`: prompt 的 CLIP 的 pooler_output，`size=[bs, 768]`\n",
    "  - 是 global feature\n",
    "- `timesteps`: 当前 timesteps，`size=[bs]`\n",
    "- `guidance_vec`: 使用的 guidance，`size=[bs]`"
   ]
  },
  {
   "cell_type": "markdown",
   "metadata": {},
   "source": [
    "### 文本编码器"
   ]
  },
  {
   "cell_type": "code",
   "execution_count": null,
   "metadata": {},
   "outputs": [
    {
     "name": "stdout",
     "output_type": "stream",
     "text": [
      "env: HF_ENDPOINT=https://hf-mirror.com\n",
      "env: HF_HOME=/data1/cache/huggingface\n"
     ]
    }
   ],
   "source": [
    "# 配置一下 huggingface 的环境变量\n",
    "%env HF_ENDPOINT=https://hf-mirror.com\n",
    "%env HF_HOME=/data1/cache/huggingface"
   ]
  },
  {
   "cell_type": "code",
   "execution_count": 2,
   "metadata": {},
   "outputs": [],
   "source": [
    "import math\n",
    "import torch\n",
    "from torch import Tensor, nn\n",
    "from einops import rearrange, repeat\n",
    "import matplotlib.pyplot as plt\n",
    "from transformers import CLIPTextModel, CLIPTokenizer, T5EncoderModel, T5Tokenizer\n",
    "\n",
    "\n",
    "class HFEmbedder(nn.Module):\n",
    "    def __init__(self, version: str, max_length: int, **hf_kwargs):\n",
    "        super().__init__()\n",
    "        self.is_clip = version.startswith(\"openai\")\n",
    "        self.max_length = max_length\n",
    "        self.output_key = \"pooler_output\" if self.is_clip else \"last_hidden_state\"\n",
    "\n",
    "        if self.is_clip:\n",
    "            self.tokenizer: CLIPTokenizer = CLIPTokenizer.from_pretrained(version, max_length=max_length)\n",
    "            self.hf_module: CLIPTextModel = CLIPTextModel.from_pretrained(version, **hf_kwargs)\n",
    "        else:\n",
    "            self.tokenizer: T5Tokenizer = T5Tokenizer.from_pretrained(version, max_length=max_length)\n",
    "            self.hf_module: T5EncoderModel = T5EncoderModel.from_pretrained(version, **hf_kwargs)\n",
    "\n",
    "        self.hf_module = self.hf_module.eval().requires_grad_(False)\n",
    "\n",
    "    def forward(self, text: list[str]) -> Tensor:\n",
    "        batch_encoding = self.tokenizer(\n",
    "            text,\n",
    "            truncation=True,\n",
    "            max_length=self.max_length,\n",
    "            return_length=False,\n",
    "            return_overflowing_tokens=False,\n",
    "            padding=\"max_length\",\n",
    "            return_tensors=\"pt\",\n",
    "        )\n",
    "\n",
    "        outputs = self.hf_module(\n",
    "            input_ids=batch_encoding[\"input_ids\"].to(self.hf_module.device),\n",
    "            attention_mask=None,\n",
    "            output_hidden_states=False,\n",
    "        )\n",
    "        return outputs[self.output_key]\n",
    "\n",
    "def load_t5(device: str | torch.device = \"cuda\", max_length: int = 512) -> HFEmbedder:\n",
    "    # max length 64, 128, 256 and 512 should work (if your sequence is short enough)\n",
    "    return HFEmbedder(\"google/t5-v1_1-xxl\", max_length=max_length, torch_dtype=torch.bfloat16).to(device)\n",
    "\n",
    "def load_clip(device: str | torch.device = \"cuda\") -> HFEmbedder:\n",
    "    return HFEmbedder(\"openai/clip-vit-large-patch14\", max_length=77, torch_dtype=torch.bfloat16).to(device)\n"
   ]
  },
  {
   "cell_type": "code",
   "execution_count": 3,
   "metadata": {},
   "outputs": [
    {
     "name": "stderr",
     "output_type": "stream",
     "text": [
      "You are using the default legacy behaviour of the <class 'transformers.models.t5.tokenization_t5.T5Tokenizer'>. This is expected, and simply means that the `legacy` (previous) behavior will be used so nothing changes for you. If you want to use the new behaviour, set `legacy=False`. This should only be set if you understand what it means, and thoroughly read the reason why this was added as explained in https://github.com/huggingface/transformers/pull/24565\n"
     ]
    }
   ],
   "source": [
    "device = \"cuda\" if torch.cuda.is_available() else \"cpu\"\n",
    "torch_device = torch.device(device)\n",
    "t5 = load_t5(torch_device, max_length=512)\n",
    "clip = load_clip(torch_device)"
   ]
  },
  {
   "cell_type": "code",
   "execution_count": 4,
   "metadata": {},
   "outputs": [
    {
     "name": "stdout",
     "output_type": "stream",
     "text": [
      "torch.Size([2, 512, 4096]) torch.Size([2, 768]) torch.Size([2, 512, 3])\n"
     ]
    }
   ],
   "source": [
    "bs = 2\n",
    "prompt = [\"A Hero\"]*bs\n",
    "\n",
    "txt = t5(prompt)\n",
    "txt_ids = torch.zeros(bs, txt.shape[1], 3).to(torch_device)\n",
    "y = clip(prompt)\n",
    "\n",
    "print(txt.size(), y.size(), txt_ids.size())"
   ]
  },
  {
   "cell_type": "markdown",
   "metadata": {},
   "source": [
    "### img_ids 图像位置编码"
   ]
  },
  {
   "cell_type": "markdown",
   "metadata": {},
   "source": [
    "注意这里的图块化操作，即 img 原本是 (bs, 16, h/8, w/8) 这个样子，但是 flux 将 2\\*2=4 的区域视为一个图块，并将其 channel 拼接，形成 (bs, 16\\*2\\*2, h/16, w/16) 的形状。所谓的 ph, pw 即 patchify_height, patchify_width。"
   ]
  },
  {
   "cell_type": "code",
   "execution_count": 5,
   "metadata": {},
   "outputs": [
    {
     "name": "stdout",
     "output_type": "stream",
     "text": [
      "torch.Size([2, 1024, 64]) torch.Size([2, 1024, 3])\n"
     ]
    }
   ],
   "source": [
    "height = 512\n",
    "width = 512\n",
    "# allow for packing and conversion to latent space\n",
    "height = 16 * (height // 16)\n",
    "width = 16 * (width // 16)\n",
    "\n",
    "img = torch.randn(\n",
    "        bs,\n",
    "        16,\n",
    "        # allow for packing\n",
    "        2 * math.ceil(height / 16),\n",
    "        2 * math.ceil(width / 16),\n",
    "        device=device,\n",
    "        dtype=torch.bfloat16\n",
    "    )\n",
    "bs, c, h, w = img.shape\n",
    "\n",
    "img = rearrange(img, \"b c (h ph) (w pw) -> b (h w) (c ph pw)\", ph=2, pw=2)\n",
    "\n",
    "img_ids = torch.zeros(h // 2, w // 2, 3)\n",
    "img_ids[..., 1] = img_ids[..., 1] + torch.arange(h // 2)[:, None]\n",
    "img_ids[..., 2] = img_ids[..., 2] + torch.arange(w // 2)[None, :]\n",
    "img_ids = repeat(img_ids, \"h w c -> b (h w) c\", b=bs).to(torch_device)\n",
    "\n",
    "print(img.size(), img_ids.size())"
   ]
  },
  {
   "cell_type": "markdown",
   "metadata": {},
   "source": [
    "### timesteps"
   ]
  },
  {
   "cell_type": "code",
   "execution_count": 6,
   "metadata": {},
   "outputs": [],
   "source": [
    "from typing import Callable\n",
    "\n",
    "def time_shift(mu: float, sigma: float, t: Tensor):\n",
    "    return math.exp(mu) / (math.exp(mu) + (1 / t - 1) ** sigma)\n",
    "\n",
    "\n",
    "def get_lin_function(\n",
    "    x1: float = 256, y1: float = 0.5, x2: float = 4096, y2: float = 1.15\n",
    ") -> Callable[[float], float]:\n",
    "    m = (y2 - y1) / (x2 - x1)\n",
    "    b = y1 - m * x1\n",
    "    return lambda x: m * x + b\n",
    "\n",
    "\n",
    "def get_schedule(\n",
    "    num_steps: int,\n",
    "    image_seq_len: int,\n",
    "    base_shift: float = 0.5,\n",
    "    max_shift: float = 1.15,\n",
    "    shift: bool = True,\n",
    ") -> list[float]:\n",
    "    # extra step for zero\n",
    "    timesteps = torch.linspace(1, 0, num_steps + 1)\n",
    "\n",
    "    # shifting the schedule to favor high timesteps for higher signal images\n",
    "    if shift:\n",
    "        # estimate mu based on linear estimation between two points\n",
    "        mu = get_lin_function(y1=base_shift, y2=max_shift)(image_seq_len)\n",
    "        timesteps = time_shift(mu, 1.0, timesteps)\n",
    "\n",
    "    return timesteps.tolist()\n",
    "\n",
    "num_steps = 50\n",
    "timesteps = get_schedule(num_steps, img.shape[1], shift=True)"
   ]
  },
  {
   "cell_type": "code",
   "execution_count": 7,
   "metadata": {},
   "outputs": [
    {
     "data": {
      "image/png": "[encoded data removed]",
      "text/plain": [
       "<Figure size 1000x300 with 1 Axes>"
      ]
     },
     "metadata": {},
     "output_type": "display_data"
    }
   ],
   "source": [
    "plt.figure(figsize=(10, 3))\n",
    "plt.plot(timesteps, marker='o', linestyle='-')\n",
    "plt.title('Timesteps Schedule')\n",
    "plt.xlabel('Step')\n",
    "plt.ylabel('Timestep Value')\n",
    "plt.grid(True)\n",
    "plt.show()"
   ]
  },
  {
   "cell_type": "code",
   "execution_count": 10,
   "metadata": {},
   "outputs": [],
   "source": [
    "guidance = 4.0\n",
    "guidance_vec = torch.full((img.shape[0],), guidance, device=img.device, dtype=img.dtype)\n",
    "t_vec = torch.full((img.shape[0],), timesteps[0], dtype=img.dtype, device=img.device)"
   ]
  },
  {
   "cell_type": "markdown",
   "metadata": {},
   "source": [
    "为了方便调试，我们可以把输入都保存下来，之后再 load 进来，就不用每次都 load T5 了。"
   ]
  },
  {
   "cell_type": "code",
   "execution_count": 11,
   "metadata": {},
   "outputs": [],
   "source": [
    "inputs = {\n",
    "    'img': img,\n",
    "    'img_ids': img_ids,\n",
    "    'txt': txt,\n",
    "    'txt_ids': txt_ids,\n",
    "    'timesteps': timesteps,\n",
    "    't_vec': t_vec,\n",
    "    'y': y,\n",
    "    'guidance_vec': guidance_vec\n",
    "}\n",
    "\n",
    "# 保存张量数据\n",
    "torch.save(inputs, 'inputs.pt')"
   ]
  },
  {
   "cell_type": "code",
   "execution_count": 13,
   "metadata": {},
   "outputs": [
    {
     "name": "stdout",
     "output_type": "stream",
     "text": [
      "torch.Size([2, 1024, 64]) torch.Size([2, 1024, 3]) torch.Size([2, 512, 4096]) torch.Size([2, 512, 3]) torch.Size([2]) torch.Size([2, 768]) torch.Size([2])\n"
     ]
    }
   ],
   "source": [
    "print(img.size(), img_ids.size(), txt.size(), txt_ids.size(), t_vec.size(), y.size(), guidance_vec.size())"
   ]
  },
  {
   "cell_type": "markdown",
   "metadata": {},
   "source": [
    "## 网络 - 加载"
   ]
  },
  {
   "cell_type": "markdown",
   "metadata": {},
   "source": [
    "这里由于 24G 显存加载不进去，我们把 depth 都调小了，因此也没有再加载原参数。仅为探究网络结构的话，参数本身不是很重要。"
   ]
  },
  {
   "cell_type": "code",
   "execution_count": 1,
   "metadata": {},
   "outputs": [],
   "source": [
    "import math\n",
    "import torch\n",
    "from torch import Tensor, nn\n",
    "from einops import rearrange, repeat\n",
    "import matplotlib.pyplot as plt\n",
    "from flux.model import Flux, FluxParams\n",
    "\n",
    "\n",
    "flux_params=FluxParams(\n",
    "            in_channels=64,\n",
    "            out_channels=64,\n",
    "            vec_in_dim=768,\n",
    "            context_in_dim=4096,\n",
    "            hidden_size=3072,\n",
    "            mlp_ratio=4.0,\n",
    "            num_heads=24,\n",
    "            depth=2,  # should be 19\n",
    "            depth_single_blocks=2,  # should be 38\n",
    "            axes_dim=[16, 56, 56],\n",
    "            theta=10_000,\n",
    "            qkv_bias=True,\n",
    "            guidance_embed=True,\n",
    "        )\n",
    "\n",
    "device = \"cuda\" if torch.cuda.is_available() else \"cpu\"\n",
    "torch_device = torch.device(device)\n",
    "with torch.device(device):\n",
    "    model = Flux(flux_params).to(torch.bfloat16)\n",
    "\n",
    "\n",
    "# 如下是加载模型的代码\n",
    "# from huggingface_hub import hf_hub_download\n",
    "# from safetensors.torch import load_file as load_sft\n",
    "\n",
    "# ckpt_path = hf_hub_download(\"black-forest-labs/FLUX.1-dev\", \"flux1-dev.safetensors\")\n",
    "# state_dict = load_sft(ckpt_path, device=str(device))\n",
    "\n",
    "# for name, param in model.named_parameters():\n",
    "#     if name in state_dict:\n",
    "#         if state_dict[name].shape != param.shape:\n",
    "#             print(f\"Expanding '{name}' with shape {state_dict[name].shape} to model parameter with shape {param.shape}.\")\n",
    "#             # expand with zeros:\n",
    "#             expanded_state_dict_weight = torch.zeros_like(param, device=state_dict[name].device)\n",
    "#             slices = tuple(slice(0, dim) for dim in state_dict[name].shape)\n",
    "#             expanded_state_dict_weight[slices] = state_dict[name]\n",
    "#             state_dict[name] = expanded_state_dict_weight\n",
    "\n",
    "# model.load_state_dict(state_dict, strict=False, assign=True)"
   ]
  },
  {
   "cell_type": "code",
   "execution_count": 16,
   "metadata": {},
   "outputs": [
    {
     "name": "stderr",
     "output_type": "stream",
     "text": [
      "/tmp/ipykernel_1451177/1652036724.py:2: FutureWarning: You are using `torch.load` with `weights_only=False` (the current default value), which uses the default pickle module implicitly. It is possible to construct malicious pickle data which will execute arbitrary code during unpickling (See https://github.com/pytorch/pytorch/blob/main/SECURITY.md#untrusted-models for more details). In a future release, the default value for `weights_only` will be flipped to `True`. This limits the functions that could be executed during unpickling. Arbitrary objects will no longer be allowed to be loaded via this mode unless they are explicitly allowlisted by the user via `torch.serialization.add_safe_globals`. We recommend you start setting `weights_only=True` for any use case where you don't have full control of the loaded file. Please open an issue on GitHub for any issues related to this experimental feature.\n",
      "  inputs = torch.load('inputs.pt')\n"
     ]
    }
   ],
   "source": [
    "# 加载张量数据\n",
    "inputs = torch.load('inputs.pt')\n",
    "img = inputs['img']\n",
    "img_ids = inputs['img_ids']\n",
    "txt = inputs['txt']\n",
    "txt_ids = inputs['txt_ids']\n",
    "timesteps = inputs['timesteps']\n",
    "t_vec = inputs['t_vec']\n",
    "y = inputs['y']\n",
    "guidance_vec = inputs['guidance_vec']"
   ]
  },
  {
   "cell_type": "markdown",
   "metadata": {},
   "source": [
    "## （可选）网络 - 可视化"
   ]
  },
  {
   "cell_type": "code",
   "execution_count": 3,
   "metadata": {},
   "outputs": [],
   "source": [
    "# 测试一下模型是否可以正常运行\n",
    "pred = model(\n",
    "    img=img,\n",
    "    img_ids=img_ids,\n",
    "    txt=txt,\n",
    "    txt_ids=txt_ids,\n",
    "    y=y,\n",
    "    timesteps=t_vec,\n",
    "    guidance=guidance_vec,\n",
    ")\n",
    "\n",
    "from torchviz import make_dot\n",
    "# make_dot(pred.mean(), params=dict(model.named_parameters()))"
   ]
  },
  {
   "cell_type": "markdown",
   "metadata": {},
   "source": [
    "### Netron"
   ]
  },
  {
   "cell_type": "code",
   "execution_count": 17,
   "metadata": {},
   "outputs": [
    {
     "name": "stderr",
     "output_type": "stream",
     "text": [
      "/root/codes/flux/src/flux/modules/layers.py:166: TracerWarning: Iterating over a tensor might cause the trace to be incorrect. Passing a tensor of different shape won't change the number of iterations executed (and might lead to errors or silently give incorrect results).\n",
      "  img_q, img_k, img_v = rearrange(img_qkv, \"B L (K H D) -> K B H L D\", K=3, H=self.num_heads)\n",
      "/root/codes/flux/src/flux/modules/layers.py:173: TracerWarning: Iterating over a tensor might cause the trace to be incorrect. Passing a tensor of different shape won't change the number of iterations executed (and might lead to errors or silently give incorrect results).\n",
      "  txt_q, txt_k, txt_v = rearrange(txt_qkv, \"B L (K H D) -> K B H L D\", K=3, H=self.num_heads)\n",
      "/root/codes/flux/src/flux/modules/layers.py:232: TracerWarning: Iterating over a tensor might cause the trace to be incorrect. Passing a tensor of different shape won't change the number of iterations executed (and might lead to errors or silently give incorrect results).\n",
      "  q, k, v = rearrange(qkv, \"B L (K H D) -> K B H L D\", K=3, H=self.num_heads)\n"
     ]
    }
   ],
   "source": [
    "# 导出模型到 onnx，并用 https://netron.app/ 进行可视化\n",
    "input_names = [\"img\", \"img_ids\", \"txt\", \"txt_ids\", \"timesteps\", \"y\", \"guidance\"]\n",
    "output_names = [\"output\"]\n",
    "model.eval()\n",
    "\n",
    "torch.onnx.export(\n",
    "    model,\n",
    "    (img, img_ids, txt, txt_ids, t_vec, y, guidance_vec),\n",
    "    \"flux_model.onnx\",\n",
    "    input_names=input_names,\n",
    "    output_names=output_names,\n",
    "    opset_version=17,  # 你可以根据需要调整 opset 版本\n",
    "    do_constant_folding=True,  # 是否执行常量折叠以优化模型\n",
    "    dynamic_axes={\n",
    "        \"img\": {0: \"batch_size\"},\n",
    "        \"img_ids\": {0: \"batch_size\"},\n",
    "        \"txt\": {0: \"batch_size\"},\n",
    "        \"txt_ids\": {0: \"batch_size\"},\n",
    "        \"timesteps\": {0: \"batch_size\"},\n",
    "        \"y\": {0: \"batch_size\"},\n",
    "        \"guidance\": {0: \"batch_size\"},\n",
    "        \"output\": {0: \"batch_size\"},\n",
    "    },\n",
    ")"
   ]
  },
  {
   "cell_type": "markdown",
   "metadata": {},
   "source": [
    "### torchinfo"
   ]
  },
  {
   "cell_type": "code",
   "execution_count": 4,
   "metadata": {},
   "outputs": [
    {
     "name": "stdout",
     "output_type": "stream",
     "text": [
      "======================================================================================================================================================\n",
      "Layer (type (var_name))                            Input Shape               Output Shape              Param #                   Param %\n",
      "======================================================================================================================================================\n",
      "Flux (Flux)                                        [2, 1024, 64]             [2, 1024, 64]             --                             --\n",
      "├─Linear (img_in)                                  [2, 1024, 64]             [2, 1024, 3072]           199,680                     0.02%\n",
      "├─MLPEmbedder (time_in)                            [2, 256]                  [2, 3072]                 --                             --\n",
      "│    └─Linear (in_layer)                           [2, 256]                  [2, 3072]                 789,504                     0.08%\n",
      "│    └─SiLU (silu)                                 [2, 3072]                 [2, 3072]                 --                             --\n",
      "│    └─Linear (out_layer)                          [2, 3072]                 [2, 3072]                 9,440,256                   0.92%\n",
      "├─MLPEmbedder (guidance_in)                        [2, 256]                  [2, 3072]                 --                             --\n",
      "│    └─Linear (in_layer)                           [2, 256]                  [2, 3072]                 789,504                     0.08%\n",
      "│    └─SiLU (silu)                                 [2, 3072]                 [2, 3072]                 --                             --\n",
      "│    └─Linear (out_layer)                          [2, 3072]                 [2, 3072]                 9,440,256                   0.92%\n",
      "├─MLPEmbedder (vector_in)                          [2, 768]                  [2, 3072]                 --                             --\n",
      "│    └─Linear (in_layer)                           [2, 768]                  [2, 3072]                 2,362,368                   0.23%\n",
      "│    └─SiLU (silu)                                 [2, 3072]                 [2, 3072]                 --                             --\n",
      "│    └─Linear (out_layer)                          [2, 3072]                 [2, 3072]                 9,440,256                   0.92%\n",
      "├─Linear (txt_in)                                  [2, 512, 4096]            [2, 512, 3072]            12,585,984                  1.23%\n",
      "├─EmbedND (pe_embedder)                            [2, 1536, 3]              [2, 1, 1536, 64, 2, 2]    --                             --\n",
      "├─ModuleList (double_blocks)                       --                        --                        --                             --\n",
      "│    └─DoubleStreamBlock (0)                       --                        [2, 1024, 3072]           --                             --\n",
      "│    │    └─Modulation (img_mod)                   [2, 3072]                 --                        --                             --\n",
      "│    │    │    └─Linear (lin)                      [2, 3072]                 [2, 18432]                56,641,536                  5.52%\n",
      "│    │    └─Modulation (txt_mod)                   [2, 3072]                 --                        --                             --\n",
      "│    │    │    └─Linear (lin)                      [2, 3072]                 [2, 18432]                56,641,536                  5.52%\n",
      "│    │    └─LayerNorm (img_norm1)                  [2, 1024, 3072]           [2, 1024, 3072]           --                             --\n",
      "│    │    └─SelfAttention (img_attn)               --                        --                        (recursive)               (recursive)\n",
      "│    │    │    └─Linear (qkv)                      [2, 1024, 3072]           [2, 1024, 9216]           28,320,768                  2.76%\n",
      "│    │    │    └─QKNorm (norm)                     [2, 24, 1024, 128]        [2, 24, 1024, 128]        --                             --\n",
      "│    │    │    │    └─RMSNorm (query_norm)         [2, 24, 1024, 128]        [2, 24, 1024, 128]        128                         0.00%\n",
      "│    │    │    │    └─RMSNorm (key_norm)           [2, 24, 1024, 128]        [2, 24, 1024, 128]        128                         0.00%\n",
      "│    │    └─LayerNorm (txt_norm1)                  [2, 512, 3072]            [2, 512, 3072]            --                             --\n",
      "│    │    └─SelfAttention (txt_attn)               --                        --                        (recursive)               (recursive)\n",
      "│    │    │    └─Linear (qkv)                      [2, 512, 3072]            [2, 512, 9216]            28,320,768                  2.76%\n",
      "│    │    │    └─QKNorm (norm)                     [2, 24, 512, 128]         [2, 24, 512, 128]         --                             --\n",
      "│    │    │    │    └─RMSNorm (query_norm)         [2, 24, 512, 128]         [2, 24, 512, 128]         128                         0.00%\n",
      "│    │    │    │    └─RMSNorm (key_norm)           [2, 24, 512, 128]         [2, 24, 512, 128]         128                         0.00%\n",
      "│    │    └─SelfAttention (img_attn)               --                        --                        (recursive)               (recursive)\n",
      "│    │    │    └─Linear (proj)                     [2, 1024, 3072]           [2, 1024, 3072]           9,440,256                   0.92%\n",
      "│    │    └─LayerNorm (img_norm2)                  [2, 1024, 3072]           [2, 1024, 3072]           --                             --\n",
      "│    │    └─Sequential (img_mlp)                   [2, 1024, 3072]           [2, 1024, 3072]           --                             --\n",
      "│    │    │    └─Linear (0)                        [2, 1024, 3072]           [2, 1024, 12288]          37,761,024                  3.68%\n",
      "│    │    │    └─GELU (1)                          [2, 1024, 12288]          [2, 1024, 12288]          --                             --\n",
      "│    │    │    └─Linear (2)                        [2, 1024, 12288]          [2, 1024, 3072]           37,751,808                  3.68%\n",
      "│    │    └─SelfAttention (txt_attn)               --                        --                        (recursive)               (recursive)\n",
      "│    │    │    └─Linear (proj)                     [2, 512, 3072]            [2, 512, 3072]            9,440,256                   0.92%\n",
      "│    │    └─LayerNorm (txt_norm2)                  [2, 512, 3072]            [2, 512, 3072]            --                             --\n",
      "│    │    └─Sequential (txt_mlp)                   [2, 512, 3072]            [2, 512, 3072]            --                             --\n",
      "│    │    │    └─Linear (0)                        [2, 512, 3072]            [2, 512, 12288]           37,761,024                  3.68%\n",
      "│    │    │    └─GELU (1)                          [2, 512, 12288]           [2, 512, 12288]           --                             --\n",
      "│    │    │    └─Linear (2)                        [2, 512, 12288]           [2, 512, 3072]            37,751,808                  3.68%\n",
      "│    └─DoubleStreamBlock (1)                       --                        [2, 1024, 3072]           --                             --\n",
      "│    │    └─Modulation (img_mod)                   [2, 3072]                 --                        --                             --\n",
      "│    │    │    └─Linear (lin)                      [2, 3072]                 [2, 18432]                56,641,536                  5.52%\n",
      "│    │    └─Modulation (txt_mod)                   [2, 3072]                 --                        --                             --\n",
      "│    │    │    └─Linear (lin)                      [2, 3072]                 [2, 18432]                56,641,536                  5.52%\n",
      "│    │    └─LayerNorm (img_norm1)                  [2, 1024, 3072]           [2, 1024, 3072]           --                             --\n",
      "│    │    └─SelfAttention (img_attn)               --                        --                        (recursive)               (recursive)\n",
      "│    │    │    └─Linear (qkv)                      [2, 1024, 3072]           [2, 1024, 9216]           28,320,768                  2.76%\n",
      "│    │    │    └─QKNorm (norm)                     [2, 24, 1024, 128]        [2, 24, 1024, 128]        --                             --\n",
      "│    │    │    │    └─RMSNorm (query_norm)         [2, 24, 1024, 128]        [2, 24, 1024, 128]        128                         0.00%\n",
      "│    │    │    │    └─RMSNorm (key_norm)           [2, 24, 1024, 128]        [2, 24, 1024, 128]        128                         0.00%\n",
      "│    │    └─LayerNorm (txt_norm1)                  [2, 512, 3072]            [2, 512, 3072]            --                             --\n",
      "│    │    └─SelfAttention (txt_attn)               --                        --                        (recursive)               (recursive)\n",
      "│    │    │    └─Linear (qkv)                      [2, 512, 3072]            [2, 512, 9216]            28,320,768                  2.76%\n",
      "│    │    │    └─QKNorm (norm)                     [2, 24, 512, 128]         [2, 24, 512, 128]         --                             --\n",
      "│    │    │    │    └─RMSNorm (query_norm)         [2, 24, 512, 128]         [2, 24, 512, 128]         128                         0.00%\n",
      "│    │    │    │    └─RMSNorm (key_norm)           [2, 24, 512, 128]         [2, 24, 512, 128]         128                         0.00%\n",
      "│    │    └─SelfAttention (img_attn)               --                        --                        (recursive)               (recursive)\n",
      "│    │    │    └─Linear (proj)                     [2, 1024, 3072]           [2, 1024, 3072]           9,440,256                   0.92%\n",
      "│    │    └─LayerNorm (img_norm2)                  [2, 1024, 3072]           [2, 1024, 3072]           --                             --\n",
      "│    │    └─Sequential (img_mlp)                   [2, 1024, 3072]           [2, 1024, 3072]           --                             --\n",
      "│    │    │    └─Linear (0)                        [2, 1024, 3072]           [2, 1024, 12288]          37,761,024                  3.68%\n",
      "│    │    │    └─GELU (1)                          [2, 1024, 12288]          [2, 1024, 12288]          --                             --\n",
      "│    │    │    └─Linear (2)                        [2, 1024, 12288]          [2, 1024, 3072]           37,751,808                  3.68%\n",
      "│    │    └─SelfAttention (txt_attn)               --                        --                        (recursive)               (recursive)\n",
      "│    │    │    └─Linear (proj)                     [2, 512, 3072]            [2, 512, 3072]            9,440,256                   0.92%\n",
      "│    │    └─LayerNorm (txt_norm2)                  [2, 512, 3072]            [2, 512, 3072]            --                             --\n",
      "│    │    └─Sequential (txt_mlp)                   [2, 512, 3072]            [2, 512, 3072]            --                             --\n",
      "│    │    │    └─Linear (0)                        [2, 512, 3072]            [2, 512, 12288]           37,761,024                  3.68%\n",
      "│    │    │    └─GELU (1)                          [2, 512, 12288]           [2, 512, 12288]           --                             --\n",
      "│    │    │    └─Linear (2)                        [2, 512, 12288]           [2, 512, 3072]            37,751,808                  3.68%\n",
      "├─ModuleList (single_blocks)                       --                        --                        --                             --\n",
      "│    └─SingleStreamBlock (0)                       [2, 1536, 3072]           [2, 1536, 3072]           --                             --\n",
      "│    │    └─Modulation (modulation)                [2, 3072]                 --                        --                             --\n",
      "│    │    │    └─Linear (lin)                      [2, 3072]                 [2, 9216]                 28,320,768                  2.76%\n",
      "│    │    └─LayerNorm (pre_norm)                   [2, 1536, 3072]           [2, 1536, 3072]           --                             --\n",
      "│    │    └─Linear (linear1)                       [2, 1536, 3072]           [2, 1536, 21504]          66,081,792                  6.43%\n",
      "│    │    └─QKNorm (norm)                          [2, 24, 1536, 128]        [2, 24, 1536, 128]        --                             --\n",
      "│    │    │    └─RMSNorm (query_norm)              [2, 24, 1536, 128]        [2, 24, 1536, 128]        128                         0.00%\n",
      "│    │    │    └─RMSNorm (key_norm)                [2, 24, 1536, 128]        [2, 24, 1536, 128]        128                         0.00%\n",
      "│    │    └─GELU (mlp_act)                         [2, 1536, 12288]          [2, 1536, 12288]          --                             --\n",
      "│    │    └─Linear (linear2)                       [2, 1536, 15360]          [2, 1536, 3072]           47,188,992                  4.59%\n",
      "│    └─SingleStreamBlock (1)                       [2, 1536, 3072]           [2, 1536, 3072]           --                             --\n",
      "│    │    └─Modulation (modulation)                [2, 3072]                 --                        --                             --\n",
      "│    │    │    └─Linear (lin)                      [2, 3072]                 [2, 9216]                 28,320,768                  2.76%\n",
      "│    │    └─LayerNorm (pre_norm)                   [2, 1536, 3072]           [2, 1536, 3072]           --                             --\n",
      "│    │    └─Linear (linear1)                       [2, 1536, 3072]           [2, 1536, 21504]          66,081,792                  6.43%\n",
      "│    │    └─QKNorm (norm)                          [2, 24, 1536, 128]        [2, 24, 1536, 128]        --                             --\n",
      "│    │    │    └─RMSNorm (query_norm)              [2, 24, 1536, 128]        [2, 24, 1536, 128]        128                         0.00%\n",
      "│    │    │    └─RMSNorm (key_norm)                [2, 24, 1536, 128]        [2, 24, 1536, 128]        128                         0.00%\n",
      "│    │    └─GELU (mlp_act)                         [2, 1536, 12288]          [2, 1536, 12288]          --                             --\n",
      "│    │    └─Linear (linear2)                       [2, 1536, 15360]          [2, 1536, 3072]           47,188,992                  4.59%\n",
      "├─LastLayer (final_layer)                          [2, 1024, 3072]           [2, 1024, 64]             --                             --\n",
      "│    └─Sequential (adaLN_modulation)               [2, 3072]                 [2, 6144]                 --                             --\n",
      "│    │    └─SiLU (0)                               [2, 3072]                 [2, 3072]                 --                             --\n",
      "│    │    └─Linear (1)                             [2, 3072]                 [2, 6144]                 18,880,512                  1.84%\n",
      "│    └─LayerNorm (norm_final)                      [2, 1024, 3072]           [2, 1024, 3072]           --                             --\n",
      "│    └─Linear (linear)                             [2, 1024, 3072]           [2, 1024, 64]             196,672                     0.02%\n",
      "======================================================================================================================================================\n",
      "Total params: 1,026,971,200\n",
      "Trainable params: 1,026,971,200\n",
      "Non-trainable params: 0\n",
      "Total mult-adds (Units.GIGABYTES): 2.05\n",
      "======================================================================================================================================================\n",
      "Input size (MB): 8.69\n",
      "Forward/backward pass size (MB): 1624.65\n",
      "Params size (MB): 2053.94\n",
      "Estimated Total Size (MB): 3687.29\n",
      "======================================================================================================================================================\n"
     ]
    }
   ],
   "source": [
    "# 使用torchinfo进行可视化\n",
    "from torchinfo import summary\n",
    "\n",
    "res = summary(model,\n",
    "        input_data=[img, img_ids, txt, txt_ids, t_vec, y, guidance_vec],\n",
    "        col_names=[\"input_size\", \"output_size\", \"num_params\", \"params_percent\"],\n",
    "        row_settings=[\"var_names\"],\n",
    "        depth=10,\n",
    "        verbose=1,\n",
    ")"
   ]
  },
  {
   "cell_type": "markdown",
   "metadata": {},
   "source": [
    "## 网络 - 预处理"
   ]
  },
  {
   "cell_type": "markdown",
   "metadata": {},
   "source": [
    "### img, txt 的 Linear Projection"
   ]
  },
  {
   "cell_type": "markdown",
   "metadata": {},
   "source": [
    "都投影到了`hidden_size=3072`上，就是一层简单的线性层。\n",
    "\n",
    "```text\n",
    "======================================================================================================================================================\n",
    "Layer (type (var_name))                            Input Shape               Output Shape              Param #                   Param %\n",
    "======================================================================================================================================================\n",
    "├─Linear (img_in)                                  [2, 1024, 64]             [2, 1024, 3072]           199,680                     0.02%\n",
    "├─Linear (txt_in)                                  [2, 512, 4096]            [2, 512, 3072]            12,585,984                  1.23%\n",
    "======================================================================================================================================================\n",
    "```"
   ]
  },
  {
   "cell_type": "code",
   "execution_count": 17,
   "metadata": {},
   "outputs": [],
   "source": [
    "img = model.img_in(img)\n",
    "txt = model.txt_in(txt)"
   ]
  },
  {
   "cell_type": "markdown",
   "metadata": {},
   "source": [
    "### vec <- (y, timesteps, guidance)"
   ]
  },
  {
   "cell_type": "markdown",
   "metadata": {},
   "source": [
    "`y`, `t_vec`, `guidance_vec` 分别经过了一个 2 层的 MLP，同样是映射到 `hidden_size=3072` 上\n",
    "\n",
    "```text\n",
    "======================================================================================================================================================\n",
    "Layer (type (var_name))                            Input Shape               Output Shape              Param #                   Param %\n",
    "======================================================================================================================================================\n",
    "├─MLPEmbedder (time_in)                            [2, 256]                  [2, 3072]                 --                             --\n",
    "│    └─Linear (in_layer)                           [2, 256]                  [2, 3072]                 789,504                     0.08%\n",
    "│    └─SiLU (silu)                                 [2, 3072]                 [2, 3072]                 --                             --\n",
    "│    └─Linear (out_layer)                          [2, 3072]                 [2, 3072]                 9,440,256                   0.92%\n",
    "├─MLPEmbedder (guidance_in)                        [2, 256]                  [2, 3072]                 --                             --\n",
    "│    └─Linear (in_layer)                           [2, 256]                  [2, 3072]                 789,504                     0.08%\n",
    "│    └─SiLU (silu)                                 [2, 3072]                 [2, 3072]                 --                             --\n",
    "│    └─Linear (out_layer)                          [2, 3072]                 [2, 3072]                 9,440,256                   0.92%\n",
    "├─MLPEmbedder (vector_in)                          [2, 768]                  [2, 3072]                 --                             --\n",
    "│    └─Linear (in_layer)                           [2, 768]                  [2, 3072]                 2,362,368                   0.23%\n",
    "│    └─SiLU (silu)                                 [2, 3072]                 [2, 3072]                 --                             --\n",
    "│    └─Linear (out_layer)                          [2, 3072]                 [2, 3072]                 9,440,256                   0.92%\n",
    "======================================================================================================================================================\n",
    "```"
   ]
  },
  {
   "cell_type": "code",
   "execution_count": 18,
   "metadata": {},
   "outputs": [],
   "source": [
    "def timestep_embedding(t: Tensor, dim, max_period=10000, time_factor: float = 1000.0):\n",
    "    \"\"\"\n",
    "    Create sinusoidal timestep embeddings.\n",
    "    :param t: a 1-D Tensor of N indices, one per batch element.\n",
    "                      These may be fractional.\n",
    "    :param dim: the dimension of the output.\n",
    "    :param max_period: controls the minimum frequency of the embeddings.\n",
    "    :return: an (N, D) Tensor of positional embeddings.\n",
    "    \"\"\"\n",
    "    t = time_factor * t\n",
    "    half = dim // 2\n",
    "    freqs = torch.exp(-math.log(max_period) * torch.arange(start=0, end=half, dtype=torch.float32) / half).to(\n",
    "        t.device\n",
    "    )\n",
    "\n",
    "    args = t[:, None].float() * freqs[None]\n",
    "    embedding = torch.cat([torch.cos(args), torch.sin(args)], dim=-1)\n",
    "    if dim % 2:\n",
    "        embedding = torch.cat([embedding, torch.zeros_like(embedding[:, :1])], dim=-1)\n",
    "    if torch.is_floating_point(t):\n",
    "        embedding = embedding.to(t)\n",
    "    return embedding\n",
    "\n",
    "vec = model.time_in(timestep_embedding(t_vec, 256))\n",
    "vec = vec + model.guidance_in(timestep_embedding(guidance_vec, 256))\n",
    "vec = vec + model.vector_in(y)"
   ]
  },
  {
   "cell_type": "code",
   "execution_count": 19,
   "metadata": {},
   "outputs": [
    {
     "data": {
      "image/png": "[encoded data removed]",
      "text/plain": [
       "<Figure size 1500x300 with 1 Axes>"
      ]
     },
     "metadata": {},
     "output_type": "display_data"
    }
   ],
   "source": [
    "t_vec_embedding = timestep_embedding(t_vec, 256)\n",
    "guidance_vec_embedding = timestep_embedding(guidance_vec, 256)\n",
    "\n",
    "plt.figure(figsize=(15, 3))\n",
    "t_vec_embedding_np = t_vec_embedding[0].float().cpu().numpy()\n",
    "guidance_vec_embedding_np = guidance_vec_embedding[0].float().cpu().numpy()\n",
    "\n",
    "# Plotting odd and even indexed elements\n",
    "plt.plot(t_vec_embedding_np, label='t_vec_embedding')\n",
    "plt.plot(guidance_vec_embedding_np, label='guidance_vec_embedding')\n",
    "plt.legend()\n",
    "plt.title('Plot of time_embedding')\n",
    "plt.xlabel('Index')\n",
    "plt.ylabel('Value')\n",
    "plt.show()"
   ]
  },
  {
   "cell_type": "markdown",
   "metadata": {},
   "source": [
    "### RoPE位置编码"
   ]
  },
  {
   "cell_type": "markdown",
   "metadata": {},
   "source": [
    "这里简单介绍一下 RoPE 位置编码，它是一种相对位置编码，能够表示 token 之间的相对距离。一个普遍的位置编码是在现有向量的基础上增加位置信息，表示为：\n",
    "$$\n",
    "\\tilde{q}_m = f(q, m)\n",
    "$$\n",
    "\n",
    "\n",
    "RoPE 的思路是通过借助复数的性质，从而“通过绝对位置编码的方式实现相对位置编码”。针对相对位置，其目标是实现在 Attention 内积计算时存在：\n",
    "$$\n",
    "⟨f(q,m),f(k,n)⟩=g(q,k,m−n)\n",
    "$$\n",
    "\n",
    "我们借助复数和欧拉公式，推导（过程略）出如下形式能够满足上述目标：\n",
    "$$\n",
    "⟨q e^{i n \\theta}, k e^{i m \\theta}⟩ = ⟨q, k⟩ e^{i(m-n)\\theta}\n",
    "$$\n",
    "\n",
    "根据复数乘法的几何意义，该变换实际上对应着向量的旋转，它可以写成矩阵形式：\n",
    "$$\n",
    "e^{i\\theta}(x + iy) \\Rightarrow \n",
    "\\begin{bmatrix}\n",
    "\\cos\\theta & -\\sin\\theta \\\\\n",
    "\\sin\\theta & \\cos\\theta\n",
    "\\end{bmatrix}\n",
    "\\begin{bmatrix}\n",
    "x \\\\\n",
    "y\n",
    "\\end{bmatrix}\n",
    "$$\n",
    "\n",
    "扩展到多维里，有：\n",
    "\n",
    "$$\n",
    "\\scriptsize{\\underbrace{\\begin{pmatrix} \n",
    "\\cos m\\theta_0 & -\\sin m\\theta_0 & 0 & 0 & \\cdots & 0 & 0 \\\\ \n",
    "\\sin m\\theta_0 & \\cos m\\theta_0 & 0 & 0 & \\cdots & 0 & 0 \\\\ \n",
    "0 & 0 & \\cos m\\theta_1 & -\\sin m\\theta_1 & \\cdots & 0 & 0 \\\\ \n",
    "0 & 0 & \\sin m\\theta_1 & \\cos m\\theta_1 & \\cdots & 0 & 0 \\\\ \n",
    "\\vdots & \\vdots & \\vdots & \\vdots & \\ddots & \\vdots & \\vdots \\\\ \n",
    "0 & 0 & 0 & 0 & \\cdots & \\cos m\\theta_{d/2-1} & -\\sin m\\theta_{d/2-1} \\\\ \n",
    "0 & 0 & 0 & 0 & \\cdots & \\sin m\\theta_{d/2-1} & \\cos m\\theta_{d/2-1} \\\\ \n",
    "\\end{pmatrix}}_{\\boldsymbol{\\mathcal{R}}_m} \\begin{pmatrix}q_0 \\\\ q_1 \\\\ q_2 \\\\ q_3 \\\\ \\vdots \\\\ q_{d-2} \\\\ q_{d-1}\\end{pmatrix}}\n",
    "$$\n",
    "\n",
    "从而满足：\n",
    "$$\n",
    "(R_m q)^T (R_n k) = q^T R_{n−m} k\n",
    "$$\n",
    "\n",
    "在具体的实现上，我们考虑到内积满足线性叠加性以及旋转矩阵本身的稀疏性，有：\n",
    "\n",
    "$$\n",
    "\\begin{pmatrix}q_0 \\\\ q_1 \\\\ q_2 \\\\ q_3 \\\\ \\vdots \\\\ q_{d-2} \\\\ q_{d-1} \n",
    "\\end{pmatrix}\\otimes\\begin{pmatrix}\\cos m\\theta_0 \\\\ \\cos m\\theta_0 \\\\ \\cos m\\theta_1 \\\\ \\cos m\\theta_1 \\\\ \\vdots \\\\ \\cos m\\theta_{d/2-1} \\\\ \\cos m\\theta_{d/2-1} \n",
    "\\end{pmatrix} + \\begin{pmatrix}-q_1 \\\\ q_0 \\\\ -q_3 \\\\ q_2 \\\\ \\vdots \\\\ -q_{d-1} \\\\ q_{d-2} \n",
    "\\end{pmatrix}\\otimes\\begin{pmatrix}\\sin m\\theta_0 \\\\ \\sin m\\theta_0 \\\\ \\sin m\\theta_1 \\\\ \\sin m\\theta_1 \\\\ \\vdots \\\\ \\sin m\\theta_{d/2-1} \\\\ \\sin m\\theta_{d/2-1} \n",
    "\\end{pmatrix}\n",
    "$$\n",
    "\n",
    "其中 $\\theta_i$ 沿用了Sinusoidal位置编码的方案，即 $\\theta_i = 10000^{−2i/d}$。"
   ]
  },
  {
   "cell_type": "code",
   "execution_count": 20,
   "metadata": {},
   "outputs": [],
   "source": [
    "def rope(pos: Tensor, dim: int, theta: int) -> Tensor:\n",
    "    assert dim % 2 == 0\n",
    "    scale = torch.arange(0, dim, 2, dtype=pos.dtype, device=pos.device) / dim\n",
    "    omega = 1.0 / (theta**scale)\n",
    "    out = torch.einsum(\"...n,d->...nd\", pos, omega)\n",
    "    out = torch.stack([torch.cos(out), -torch.sin(out), torch.sin(out), torch.cos(out)], dim=-1)\n",
    "    out = rearrange(out, \"b n d (i j) -> b n d i j\", i=2, j=2)\n",
    "    return out.float()\n",
    "\n",
    "ids = torch.cat((txt_ids, img_ids), dim=1)  # (bs, 512+1024, 3)\n",
    "n_axes = ids.shape[-1]  # 3\n",
    "\n",
    "flux_params.axes_dim # a list = [16, 56, 56]\n",
    "flux_params.theta # = 10000\n",
    "\n",
    "pe = torch.cat(\n",
    "    [rope(ids[..., i], flux_params.axes_dim[i], flux_params.theta) for i in range(n_axes)],\n",
    "    dim=-3,\n",
    ").unsqueeze(1)  # [batch_size, 1, sequence_length, dim/2, 2, 2]"
   ]
  },
  {
   "cell_type": "markdown",
   "metadata": {},
   "source": [
    "这里的 `pe` 就是 $R_m$，它以 dim/2 个 (2, 2) 旋转矩阵的方式存储。\n",
    "对于原始的 3 维位置表示，分别对应 [16, 56, 56] 维。"
   ]
  },
  {
   "cell_type": "markdown",
   "metadata": {},
   "source": [
    "### 总结"
   ]
  },
  {
   "cell_type": "markdown",
   "metadata": {},
   "source": [
    "到此，我们就完成了网络的预处理部分：\n",
    "\n",
    "![](https://image-1304830922.cos.ap-shanghai.myqcloud.com/20250303155941221.png)"
   ]
  },
  {
   "cell_type": "code",
   "execution_count": 21,
   "metadata": {},
   "outputs": [
    {
     "name": "stdout",
     "output_type": "stream",
     "text": [
      "torch.Size([2, 1024, 3072]) torch.Size([2, 512, 3072]) torch.Size([2, 3072]) torch.Size([2, 1, 1536, 64, 2, 2])\n"
     ]
    }
   ],
   "source": [
    "print(img.size(), txt.size(), vec.size(), pe.size())"
   ]
  },
  {
   "cell_type": "markdown",
   "metadata": {},
   "source": [
    "## 网络 - DoubleStream"
   ]
  },
  {
   "cell_type": "markdown",
   "metadata": {},
   "source": [
    "接下来就是网络中最重要的两个模块了，DualStream 和 SingleStream。我们先分析 DualStream。\n",
    "\n",
    "![](https://image-1304830922.cos.ap-shanghai.myqcloud.com/20250303161607441.png)"
   ]
  },
  {
   "cell_type": "code",
   "execution_count": 22,
   "metadata": {},
   "outputs": [
    {
     "name": "stdout",
     "output_type": "stream",
     "text": [
      "============================================================================================================================================\n",
      "Layer (type (var_name))                  Input Shape               Output Shape              Param #                   Param %\n",
      "============================================================================================================================================\n",
      "DoubleStreamBlock (DoubleStreamBlock)    [2, 1024, 3072]           [2, 1024, 3072]           --                             --\n",
      "├─Modulation (img_mod)                   [2, 3072]                 --                        --                             --\n",
      "│    └─Linear (lin)                      [2, 3072]                 [2, 18432]                56,641,536                 16.67%\n",
      "├─Modulation (txt_mod)                   [2, 3072]                 --                        --                             --\n",
      "│    └─Linear (lin)                      [2, 3072]                 [2, 18432]                56,641,536                 16.67%\n",
      "├─LayerNorm (img_norm1)                  [2, 1024, 3072]           [2, 1024, 3072]           --                             --\n",
      "├─SelfAttention (img_attn)               --                        --                        (recursive)               (recursive)\n",
      "│    └─Linear (qkv)                      [2, 1024, 3072]           [2, 1024, 9216]           28,320,768                  8.33%\n",
      "│    └─QKNorm (norm)                     [2, 24, 1024, 128]        [2, 24, 1024, 128]        --                             --\n",
      "│    │    └─RMSNorm (query_norm)         [2, 24, 1024, 128]        [2, 24, 1024, 128]        128                         0.00%\n",
      "│    │    └─RMSNorm (key_norm)           [2, 24, 1024, 128]        [2, 24, 1024, 128]        128                         0.00%\n",
      "├─LayerNorm (txt_norm1)                  [2, 512, 3072]            [2, 512, 3072]            --                             --\n",
      "├─SelfAttention (txt_attn)               --                        --                        (recursive)               (recursive)\n",
      "│    └─Linear (qkv)                      [2, 512, 3072]            [2, 512, 9216]            28,320,768                  8.33%\n",
      "│    └─QKNorm (norm)                     [2, 24, 512, 128]         [2, 24, 512, 128]         --                             --\n",
      "│    │    └─RMSNorm (query_norm)         [2, 24, 512, 128]         [2, 24, 512, 128]         128                         0.00%\n",
      "│    │    └─RMSNorm (key_norm)           [2, 24, 512, 128]         [2, 24, 512, 128]         128                         0.00%\n",
      "├─SelfAttention (img_attn)               --                        --                        (recursive)               (recursive)\n",
      "│    └─Linear (proj)                     [2, 1024, 3072]           [2, 1024, 3072]           9,440,256                   2.78%\n",
      "├─LayerNorm (img_norm2)                  [2, 1024, 3072]           [2, 1024, 3072]           --                             --\n",
      "├─Sequential (img_mlp)                   [2, 1024, 3072]           [2, 1024, 3072]           --                             --\n",
      "│    └─Linear (0)                        [2, 1024, 3072]           [2, 1024, 12288]          37,761,024                 11.11%\n",
      "│    └─GELU (1)                          [2, 1024, 12288]          [2, 1024, 12288]          --                             --\n",
      "│    └─Linear (2)                        [2, 1024, 12288]          [2, 1024, 3072]           37,751,808                 11.11%\n",
      "├─SelfAttention (txt_attn)               --                        --                        (recursive)               (recursive)\n",
      "│    └─Linear (proj)                     [2, 512, 3072]            [2, 512, 3072]            9,440,256                   2.78%\n",
      "├─LayerNorm (txt_norm2)                  [2, 512, 3072]            [2, 512, 3072]            --                             --\n",
      "├─Sequential (txt_mlp)                   [2, 512, 3072]            [2, 512, 3072]            --                             --\n",
      "│    └─Linear (0)                        [2, 512, 3072]            [2, 512, 12288]           37,761,024                 11.11%\n",
      "│    └─GELU (1)                          [2, 512, 12288]           [2, 512, 12288]           --                             --\n",
      "│    └─Linear (2)                        [2, 512, 12288]           [2, 512, 3072]            37,751,808                 11.11%\n",
      "============================================================================================================================================\n",
      "Total params: 339,831,296\n",
      "Trainable params: 339,831,296\n",
      "Non-trainable params: 0\n",
      "Total mult-adds (Units.MEGABYTES): 679.66\n",
      "============================================================================================================================================\n",
      "Input size (MB): 22.03\n",
      "Forward/backward pass size (MB): 415.53\n",
      "Params size (MB): 679.66\n",
      "Estimated Total Size (MB): 1117.23\n",
      "============================================================================================================================================\n"
     ]
    }
   ],
   "source": [
    "block = model.double_blocks[0]\n",
    "img, txt = block(img=img, txt=txt, vec=vec, pe=pe)\n",
    "\n",
    "from torchinfo import summary\n",
    "\n",
    "res = summary(block,\n",
    "        input_data=[img, txt, vec, pe],\n",
    "        col_names=[\"input_size\", \"output_size\", \"num_params\", \"params_percent\"],\n",
    "        row_settings=[\"var_names\"],\n",
    "        depth=10,\n",
    "        verbose=1,\n",
    ")"
   ]
  },
  {
   "cell_type": "markdown",
   "metadata": {},
   "source": [
    "我们把 DoubleStreamBlock 的 forward 拿出来分析。"
   ]
  },
  {
   "cell_type": "markdown",
   "metadata": {},
   "source": [
    "### Modulation"
   ]
  },
  {
   "cell_type": "markdown",
   "metadata": {},
   "source": [
    "这里的 Modulation（调制） 对应的是 DiT 中的 AdaLN_Zero，生成三个调制变量：`shift`, `scale`, `gate`，分别用于调特征的均值、方差，以及作为门控。\n",
    "\n",
    "![](https://image-1304830922.cos.ap-shanghai.myqcloud.com/20250303171049153.png)"
   ]
  },
  {
   "cell_type": "code",
   "execution_count": 23,
   "metadata": {},
   "outputs": [],
   "source": [
    "from dataclasses import dataclass\n",
    "\n",
    "@dataclass\n",
    "class ModulationOut:\n",
    "    shift: Tensor\n",
    "    scale: Tensor\n",
    "    gate: Tensor\n",
    "\n",
    "\n",
    "class Modulation(nn.Module):\n",
    "    def __init__(self, dim: int, double: bool):\n",
    "        super().__init__()\n",
    "        self.is_double = double\n",
    "        self.multiplier = 6 if double else 3\n",
    "        self.lin = nn.Linear(dim, self.multiplier * dim, bias=True)\n",
    "\n",
    "    def forward(self, vec: Tensor) -> tuple[ModulationOut, ModulationOut | None]:\n",
    "        out = self.lin(nn.functional.silu(vec))[:, None, :].chunk(self.multiplier, dim=-1)\n",
    "\n",
    "        return (\n",
    "            ModulationOut(*out[:3]),\n",
    "            ModulationOut(*out[3:]) if self.is_double else None,\n",
    "        )\n",
    "        \n",
    "img_mod1, img_mod2 = block.img_mod(vec)\n",
    "txt_mod1, txt_mod2 = block.txt_mod(vec)"
   ]
  },
  {
   "cell_type": "code",
   "execution_count": 24,
   "metadata": {},
   "outputs": [
    {
     "name": "stdout",
     "output_type": "stream",
     "text": [
      "torch.Size([2, 1, 3072]) torch.Size([2, 1, 3072]) torch.Size([2, 1, 3072])\n"
     ]
    }
   ],
   "source": [
    "print(img_mod1.shift.size(), img_mod1.scale.size(), img_mod1.gate.size())"
   ]
  },
  {
   "cell_type": "markdown",
   "metadata": {},
   "source": [
    "### QKV"
   ]
  },
  {
   "cell_type": "markdown",
   "metadata": {},
   "source": [
    "接下来就是`img`和`txt`经过调制再经过的各自的 LayerNorm，并算出 qkv。\n",
    "\n",
    "![](https://image-1304830922.cos.ap-shanghai.myqcloud.com/20250303173422813.png)\n",
    "\n",
    "注意，这里虽然用了 img_attn = SelfAttention，但实际上只是用了其中的参数，而最终的计算是放在后面的。即一个 DoubleStreamBlock 只执行了一次真正的 attention。\n",
    "\n",
    "针对 Q 和 K 这里做了一次 RMSNorm，主要是为了确保在高分辨率下的训练稳定性。\n",
    "RMSNorm 是一个 LayerNorm 的变体，不再计算均值+方差，而只计算**均方根**，如下：\n",
    "\n",
    "| 步骤               | LayerNorm                          | RMSNorm                     |\n",
    "|--------------------|------------------------------------|-----------------------------|\n",
    "| 均值计算           | $\\mu = \\frac{1}{d} \\sum x_k$    | 无                      |\n",
    "| 方差计算           | $\\sigma^2 = \\frac{1}{d} \\sum (x_k - \\mu)^2$ | 无               |\n",
    "| 归一化值           | $\\gamma_k \\cdot \\frac{x_k - \\mu}{\\sigma} + \\beta_k $       | $\\gamma_k \\cdot \\frac{x_k}{\\text{RMS}}$  |\n",
    "| 可学习参数         | $\\gamma_k, \\beta_k$              | $\\gamma_k$                |\n",
    "\n",
    "RMSNorm 的核心优势在于速度比较快。\n"
   ]
  },
  {
   "cell_type": "code",
   "execution_count": 25,
   "metadata": {},
   "outputs": [],
   "source": [
    "# prepare image for attention\n",
    "img_modulated = block.img_norm1(img)\n",
    "img_modulated = (1 + img_mod1.scale) * img_modulated + img_mod1.shift\n",
    "img_qkv = block.img_attn.qkv(img_modulated)\n",
    "# B=batch_size, L=seq_len, K=3 (qkv), H=num_heads, D=hidden_size/num_heads\n",
    "img_q, img_k, img_v = rearrange(img_qkv, \"B L (K H D) -> K B H L D\", K=3, H=block.num_heads)\n",
    "img_q, img_k = block.img_attn.norm(img_q, img_k, img_v)\n",
    "\n",
    "# prepare txt for attention\n",
    "txt_modulated = block.txt_norm1(txt)\n",
    "txt_modulated = (1 + txt_mod1.scale) * txt_modulated + txt_mod1.shift\n",
    "txt_qkv = block.txt_attn.qkv(txt_modulated)\n",
    "txt_q, txt_k, txt_v = rearrange(txt_qkv, \"B L (K H D) -> K B H L D\", K=3, H=block.num_heads)\n",
    "txt_q, txt_k = block.txt_attn.norm(txt_q, txt_k, txt_v)"
   ]
  },
  {
   "cell_type": "code",
   "execution_count": 26,
   "metadata": {},
   "outputs": [
    {
     "data": {
      "text/plain": [
       "torch.Size([2, 24, 512, 128])"
      ]
     },
     "execution_count": 26,
     "metadata": {},
     "output_type": "execute_result"
    }
   ],
   "source": [
    "txt_q.size()  # bs=2, num_heads=24, seq_len=512, dim=3072/24=128"
   ]
  },
  {
   "cell_type": "markdown",
   "metadata": {},
   "source": [
    "### Attention w/ RoPE"
   ]
  },
  {
   "cell_type": "markdown",
   "metadata": {},
   "source": [
    "如下，这里核心的是将上节中所将的旋转位置编码加到 q,k 上，然后这里调用了最原始的 F.scaled_dot_product_attention 进行 attention 的计算。\n",
    "\n",
    "针对 img 和 txt，在 attention 前后分别 concat 和 split。"
   ]
  },
  {
   "cell_type": "code",
   "execution_count": 27,
   "metadata": {},
   "outputs": [],
   "source": [
    "\n",
    "def apply_rope(xq: Tensor, xk: Tensor, freqs_cis: Tensor) -> tuple[Tensor, Tensor]:\n",
    "    xq_ = xq.float().reshape(*xq.shape[:-1], -1, 1, 2)\n",
    "    xk_ = xk.float().reshape(*xk.shape[:-1], -1, 1, 2)\n",
    "    xq_out = freqs_cis[..., 0] * xq_[..., 0] + freqs_cis[..., 1] * xq_[..., 1]\n",
    "    xk_out = freqs_cis[..., 0] * xk_[..., 0] + freqs_cis[..., 1] * xk_[..., 1]\n",
    "    return xq_out.reshape(*xq.shape).type_as(xq), xk_out.reshape(*xk.shape).type_as(xk)\n",
    "\n",
    "\n",
    "def attention(q: Tensor, k: Tensor, v: Tensor, pe: Tensor) -> Tensor:\n",
    "    q, k = apply_rope(q, k, pe)\n",
    "\n",
    "    x = torch.nn.functional.scaled_dot_product_attention(q, k, v)\n",
    "    x = rearrange(x, \"B H L D -> B L (H D)\")\n",
    "\n",
    "    return x\n",
    "\n",
    "# run actual attention\n",
    "q = torch.cat((txt_q, img_q), dim=2)\n",
    "k = torch.cat((txt_k, img_k), dim=2)\n",
    "v = torch.cat((txt_v, img_v), dim=2)\n",
    "\n",
    "attn = attention(q, k, v, pe=pe)\n",
    "txt_attn, img_attn = attn[:, : txt.shape[1]], attn[:, txt.shape[1] :]"
   ]
  },
  {
   "cell_type": "code",
   "execution_count": 28,
   "metadata": {},
   "outputs": [
    {
     "name": "stdout",
     "output_type": "stream",
     "text": [
      "torch.Size([2, 512, 3072]) torch.Size([2, 1024, 3072])\n"
     ]
    }
   ],
   "source": [
    "print(txt_attn.size(), img_attn.size())"
   ]
  },
  {
   "cell_type": "markdown",
   "metadata": {},
   "source": [
    "### Post-Attention"
   ]
  },
  {
   "cell_type": "markdown",
   "metadata": {},
   "source": [
    "在做完 Attention 后还有些收尾的工作，主要是进行linear、门控、Norm、调制、残差。\n",
    "\n",
    "![](https://image-1304830922.cos.ap-shanghai.myqcloud.com/20250303173719212.png)"
   ]
  },
  {
   "cell_type": "code",
   "execution_count": 29,
   "metadata": {},
   "outputs": [],
   "source": [
    "# calculate the img bloks\n",
    "img = img + img_mod1.gate * block.img_attn.proj(img_attn)\n",
    "img = img + img_mod2.gate * block.img_mlp((1 + img_mod2.scale) * block.img_norm2(img) + img_mod2.shift)\n",
    "\n",
    "# calculate the txt bloks\n",
    "txt = txt + txt_mod1.gate * block.txt_attn.proj(txt_attn)\n",
    "txt = txt + txt_mod2.gate * block.txt_mlp((1 + txt_mod2.scale) * block.txt_norm2(txt) + txt_mod2.shift)"
   ]
  },
  {
   "cell_type": "markdown",
   "metadata": {},
   "source": [
    "## 网络 - SingleStream"
   ]
  },
  {
   "cell_type": "markdown",
   "metadata": {},
   "source": [
    "SingleStream 的主要网络结构和 DoubleStream 很像。但是这里注意有两点变化：1. SingleStream 在 attention 的时候额外计算了一个 mlp； 2. 在最后输出的地方， DoubleStream 对每个分支做了一个 mlp (因而 double 有两组调制，而 single 只有一组)。\n",
    "\n",
    "![](https://image-1304830922.cos.ap-shanghai.myqcloud.com/20250303185806342.png)"
   ]
  },
  {
   "cell_type": "code",
   "execution_count": 30,
   "metadata": {},
   "outputs": [],
   "source": [
    "block = model.single_blocks[0]\n",
    "\n",
    "img = torch.cat((txt, img), 1)\n",
    "img = block(img, vec=vec, pe=pe)"
   ]
  },
  {
   "cell_type": "code",
   "execution_count": 31,
   "metadata": {},
   "outputs": [],
   "source": [
    "mod, _ = block.modulation(vec)\n",
    "x_mod = (1 + mod.scale) * block.pre_norm(img) + mod.shift\n",
    "qkv, mlp = torch.split(block.linear1(x_mod), [3 * block.hidden_size, block.mlp_hidden_dim], dim=-1)\n",
    "\n",
    "q, k, v = rearrange(qkv, \"B L (K H D) -> K B H L D\", K=3, H=block.num_heads)\n",
    "q, k = block.norm(q, k, v)\n",
    "\n",
    "# compute attention\n",
    "attn = attention(q, k, v, pe=pe)\n",
    "# compute activation in mlp stream, cat again and run second linear layer\n",
    "output = block.linear2(torch.cat((attn, block.mlp_act(mlp)), 2))\n",
    "\n",
    "img = img + mod.gate * output"
   ]
  },
  {
   "cell_type": "markdown",
   "metadata": {},
   "source": [
    "## 网络 - LastLayer"
   ]
  },
  {
   "cell_type": "markdown",
   "metadata": {},
   "source": [
    "在 SingleStream 的输出之后，稍加处理即可作为最终的输出了。\n",
    "\n",
    "![](https://image-1304830922.cos.ap-shanghai.myqcloud.com/20250303193407473.png)"
   ]
  },
  {
   "cell_type": "code",
   "execution_count": 32,
   "metadata": {},
   "outputs": [],
   "source": [
    "img = img[:, txt.shape[1] :, ...]\n",
    "img = model.final_layer(img, vec)"
   ]
  },
  {
   "cell_type": "markdown",
   "metadata": {},
   "source": [
    "## VAE-Decoder"
   ]
  },
  {
   "cell_type": "code",
   "execution_count": 33,
   "metadata": {},
   "outputs": [],
   "source": [
    "height, width = 512, 512\n",
    "\n",
    "x = rearrange(\n",
    "        img.float(),\n",
    "        \"b (h w) (c ph pw) -> b c (h ph) (w pw)\",\n",
    "        h=math.ceil(height / 16),\n",
    "        w=math.ceil(width / 16),\n",
    "        ph=2,\n",
    "        pw=2,\n",
    "    )"
   ]
  },
  {
   "cell_type": "code",
   "execution_count": 34,
   "metadata": {},
   "outputs": [],
   "source": [
    "from flux.modules.autoencoder import AutoEncoder\n",
    "from dataclasses import dataclass \n",
    "\n",
    "@dataclass\n",
    "class AutoEncoderParams:\n",
    "    resolution: int\n",
    "    in_channels: int\n",
    "    ch: int\n",
    "    out_ch: int\n",
    "    ch_mult: list[int]\n",
    "    num_res_blocks: int\n",
    "    z_channels: int\n",
    "    scale_factor: float\n",
    "    shift_factor: float\n",
    "\n",
    "\n",
    "ae_params=AutoEncoderParams(\n",
    "    resolution=256,\n",
    "    in_channels=3,\n",
    "    ch=128,\n",
    "    out_ch=3,\n",
    "    ch_mult=[1, 2, 4, 4],\n",
    "    num_res_blocks=2,\n",
    "    z_channels=16,\n",
    "    scale_factor=0.3611,\n",
    "    shift_factor=0.1159,\n",
    ")\n",
    "\n",
    "# Loading the autoencoder\n",
    "ae = AutoEncoder(ae_params).to(torch_device)\n",
    "\n",
    "with torch.autocast(device_type=torch_device.type, dtype=torch.bfloat16):\n",
    "    final = ae.decode(x)"
   ]
  },
  {
   "cell_type": "markdown",
   "metadata": {},
   "source": [
    "## 参考\n",
    "\n",
    "1. [black-forest-labs/flux - github](https://github.com/black-forest-labs/flux)\n",
    "2. [FLUX.1 源码深度前瞻解读 - 周弈帆](https://zhouyifan.net/2024/09/03/20240809-flux1/)\n",
    "3. [Flux.1架构探究 - 吃亚索的土拨鼠](https://zhuanlan.zhihu.com/p/721904009)\n",
    "4. [博采众长的旋转式位置编码 - 苏剑林](https://kexue.fm/archives/8265)\n",
    "5. [Diffusion Transformer模型结构简析（DiT、SD3、Flux）](https://zhuanlan.zhihu.com/p/6853326128)\n",
    "6. [FLUX.1 原理与源码解析 - 从越](https://zhuanlan.zhihu.com/p/741939590)\n",
    "7. [深入浅出完整解析Stable Diffusion 3（SD 3）和FLUX.1系列核心基础知识 - Rocky Ding](https://zhuanlan.zhihu.com/p/684068402)\n",
    "8. [扩散模型之DiT：纯Transformer架构 - 小小将](https://zhuanlan.zhihu.com/p/641013157)"
   ]
  }
 ],
 "metadata": {
  "kernelspec": {
   "display_name": "flux-1",
   "language": "python",
   "name": "python3"
  },
  "language_info": {
   "codemirror_mode": {
    "name": "ipython",
    "version": 3
   },
   "file_extension": ".py",
   "mimetype": "text/x-python",
   "name": "python",
   "nbconvert_exporter": "python",
   "pygments_lexer": "ipython3",
   "version": "3.12.9"
  }
 },
 "nbformat": 4,
 "nbformat_minor": 2
}
